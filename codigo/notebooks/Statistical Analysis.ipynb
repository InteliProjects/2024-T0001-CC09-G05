{
  "nbformat": 4,
  "nbformat_minor": 0,
  "metadata": {
    "colab": {
      "provenance": []
    },
    "kernelspec": {
      "name": "python3",
      "display_name": "Python 3"
    },
    "language_info": {
      "name": "python"
    }
  },
  "cells": [
    {
      "cell_type": "markdown",
      "source": [
        "# Análise Estatística"
      ],
      "metadata": {
        "id": "g5PX1bHZXmdG"
      }
    },
    {
      "cell_type": "markdown",
      "source": [
        "Antes de iniciar o processo de análise, os primeiros passos foram agregar as tabelas, entender quais colunas existiam, quais poderiam ser substituidas, e quais eram relevantes para o problema de combinação."
      ],
      "metadata": {
        "id": "XlCEVFgGXrRu"
      }
    },
    {
      "cell_type": "markdown",
      "source": [
        "## Dados"
      ],
      "metadata": {
        "id": "69wzRRCVX-mr"
      }
    },
    {
      "cell_type": "markdown",
      "source": [
        "### Importando Bibliotecas"
      ],
      "metadata": {
        "id": "pyFjsHOjYBVV"
      }
    },
    {
      "cell_type": "code",
      "source": [
        "!pip install pandas_market_calendars"
      ],
      "metadata": {
        "colab": {
          "base_uri": "https://localhost:8080/"
        },
        "id": "1Iev3LNHYEhJ",
        "outputId": "10150ffe-0b13-4e5b-8863-5c70eb2a34f8"
      },
      "execution_count": 77,
      "outputs": [
        {
          "output_type": "stream",
          "name": "stdout",
          "text": [
            "Requirement already satisfied: pandas_market_calendars in /usr/local/lib/python3.10/dist-packages (4.4.0)\n",
            "Requirement already satisfied: pandas>=1.1 in /usr/local/lib/python3.10/dist-packages (from pandas_market_calendars) (1.5.3)\n",
            "Requirement already satisfied: pytz in /usr/local/lib/python3.10/dist-packages (from pandas_market_calendars) (2023.4)\n",
            "Requirement already satisfied: python-dateutil in /usr/local/lib/python3.10/dist-packages (from pandas_market_calendars) (2.8.2)\n",
            "Requirement already satisfied: exchange-calendars>=3.3 in /usr/local/lib/python3.10/dist-packages (from pandas_market_calendars) (4.5.3)\n",
            "Requirement already satisfied: numpy<2 in /usr/local/lib/python3.10/dist-packages (from exchange-calendars>=3.3->pandas_market_calendars) (1.25.2)\n",
            "Requirement already satisfied: pyluach in /usr/local/lib/python3.10/dist-packages (from exchange-calendars>=3.3->pandas_market_calendars) (2.2.0)\n",
            "Requirement already satisfied: toolz in /usr/local/lib/python3.10/dist-packages (from exchange-calendars>=3.3->pandas_market_calendars) (0.12.1)\n",
            "Requirement already satisfied: tzdata in /usr/local/lib/python3.10/dist-packages (from exchange-calendars>=3.3->pandas_market_calendars) (2024.1)\n",
            "Requirement already satisfied: korean-lunar-calendar in /usr/local/lib/python3.10/dist-packages (from exchange-calendars>=3.3->pandas_market_calendars) (0.3.1)\n",
            "Requirement already satisfied: six>=1.5 in /usr/local/lib/python3.10/dist-packages (from python-dateutil->pandas_market_calendars) (1.16.0)\n"
          ]
        }
      ]
    },
    {
      "cell_type": "code",
      "source": [
        "import pandas as pd\n",
        "import seaborn as sns\n",
        "import numpy as np\n",
        "import pandas_market_calendars as mcal"
      ],
      "metadata": {
        "id": "0Aktr26aXmBl"
      },
      "execution_count": 78,
      "outputs": []
    },
    {
      "cell_type": "code",
      "source": [
        "import matplotlib.pyplot as plt"
      ],
      "metadata": {
        "id": "ckbDf0l8ihQS"
      },
      "execution_count": 79,
      "outputs": []
    },
    {
      "cell_type": "markdown",
      "source": [
        "### Carregando os dados"
      ],
      "metadata": {
        "id": "MDE9vNs3YIGl"
      }
    },
    {
      "cell_type": "code",
      "source": [
        "from google.colab import drive\n",
        "drive.mount('/content/drive')"
      ],
      "metadata": {
        "colab": {
          "base_uri": "https://localhost:8080/"
        },
        "id": "pDVltWDaYr8L",
        "outputId": "135ec37a-61e0-4e67-b5b5-01091c2a5404"
      },
      "execution_count": 80,
      "outputs": [
        {
          "output_type": "stream",
          "name": "stdout",
          "text": [
            "Mounted at /content/drive\n"
          ]
        }
      ]
    },
    {
      "cell_type": "code",
      "source": [
        "vendas = pd.read_csv('/content/drive/MyDrive/Datasets/vendas_dataset.csv')\n",
        "compras = pd.read_csv('/content/drive/MyDrive/Datasets/compras_dataset.csv')"
      ],
      "metadata": {
        "colab": {
          "base_uri": "https://localhost:8080/"
        },
        "id": "QhxGSQTFYLiD",
        "outputId": "dc17c65d-b9b1-4609-a8e2-8d9d1252a8f7"
      },
      "execution_count": 81,
      "outputs": [
        {
          "output_type": "stream",
          "name": "stderr",
          "text": [
            "<ipython-input-81-491e1e8d8622>:2: DtypeWarning: Columns (6,7,8,11) have mixed types. Specify dtype option on import or set low_memory=False.\n",
            "  compras = pd.read_csv('/content/drive/MyDrive/Datasets/compras_dataset.csv')\n"
          ]
        }
      ]
    },
    {
      "cell_type": "markdown",
      "source": [
        "### Convertendo os dados\n",
        "Pequenos processos e tratamento de dados, para uma observação incial. Isso inclui a transformação de colunas em texto para o tipo \"Data\", ou em números inteiros / floats."
      ],
      "metadata": {
        "id": "jGWgCVeTYNV9"
      }
    },
    {
      "cell_type": "code",
      "source": [
        "vendas['Dt. Operação'] = pd.to_datetime(vendas['Dt. Operação'], format=\"%m/%d/%Y\")\n",
        "vendas['Vencimento'] = pd.to_datetime(vendas['Vencimento'], format=\"%m/%d/%Y\")\n",
        "compras['Dt. Operação'] = pd.to_datetime(compras['Dt. Operação'], format=\"%Y/%m/%d\")\n",
        "\n",
        "for col in ['Quantidade', 'Preço', 'Valor Líquido']:\n",
        "    vendas[col] = vendas[col].str.replace(',', '').astype(float)\n",
        "    compras[col] = compras[col].str.replace(',', '').astype(float)\n",
        "\n",
        "vendas['DI'] = vendas['DI'].str.replace('%', '').astype(float) / 100\n",
        "vendas['Preço'] = vendas['Preço'].astype(float)\n",
        "compras['Preço'] = compras['Preço'].astype(float)"
      ],
      "metadata": {
        "id": "wm3DgSXqYO9L"
      },
      "execution_count": 82,
      "outputs": []
    },
    {
      "cell_type": "code",
      "source": [
        "dtypes_vendas = vendas.dtypes\n",
        "dtypes_compras = compras.dtypes\n",
        "\n",
        "dtypes_vendas, dtypes_compras"
      ],
      "metadata": {
        "colab": {
          "base_uri": "https://localhost:8080/"
        },
        "id": "wjYpxEsVYu6P",
        "outputId": "b4f4762a-35b8-4038-875e-c2a9e7dafd1e"
      },
      "execution_count": 83,
      "outputs": [
        {
          "output_type": "execute_result",
          "data": {
            "text/plain": [
              "(Unnamed: 0                 int64\n",
              " Chave                     object\n",
              " Cód. Cliente              object\n",
              " Dt. Operação      datetime64[ns]\n",
              " Tipo Operação             object\n",
              " Cód. Título               object\n",
              " Cód. Corretora            object\n",
              " Quantidade               float64\n",
              " Preço                    float64\n",
              " Valor Líquido            float64\n",
              " Vencimento        datetime64[ns]\n",
              " Tipo                      object\n",
              " DI                       float64\n",
              " dtype: object,\n",
              " Unnamed: 0                 int64\n",
              " Cód. Cliente              object\n",
              " Dt. Operação      datetime64[ns]\n",
              " Tipo Operação             object\n",
              " Cód. Título               object\n",
              " Cód. Corretora            object\n",
              " Quantidade               float64\n",
              " Preço                    float64\n",
              " Valor Líquido            float64\n",
              " Dt. Liquidação            object\n",
              " Tipo                      object\n",
              " Vencimento                object\n",
              " dtype: object)"
            ]
          },
          "metadata": {},
          "execution_count": 83
        }
      ]
    },
    {
      "cell_type": "markdown",
      "source": [
        "### Criando nova coluna \"UniqueID\"\n",
        "Visto que as Colunas Código Cliente, Código Título, Código Corretora e Data da operação descrevem de forma agregada, uma maneira de identificar chaves para casamentos e combinações, decidimos então criar uma coluna chamada UniqueID, a qual agregava os 3 valores em uma só, facilitando processos futuros de agrupamento e Match."
      ],
      "metadata": {
        "id": "iOfk2hPSY0xs"
      }
    },
    {
      "cell_type": "code",
      "source": [
        "vendas['UniqueID'] = vendas['Cód. Cliente'] + '_' + vendas['Dt. Operação'].astype(str) + '_' + vendas['Cód. Título'] + '_' + vendas['Cód. Corretora']\n",
        "compras['UniqueID'] = compras['Cód. Cliente'] + '_' + compras['Dt. Operação'].astype(str) + '_' + compras['Cód. Título'] + '_' + compras['Cód. Corretora']\n",
        "df_vendas_final = vendas.drop([ 'Cód. Cliente', 'Cód. Título', 'Cód. Corretora', 'Tipo'], axis=1)\n",
        "df_compras_final = compras.drop(['Cód. Cliente', 'Vencimento', 'Cód. Título', 'Cód. Corretora', 'Tipo', 'Dt. Liquidação'], axis=1)"
      ],
      "metadata": {
        "id": "nhHAFXYeZT85"
      },
      "execution_count": 84,
      "outputs": []
    },
    {
      "cell_type": "code",
      "source": [
        "df_vendas_final.head()"
      ],
      "metadata": {
        "colab": {
          "base_uri": "https://localhost:8080/",
          "height": 331
        },
        "id": "wgr9DybiZWtO",
        "outputId": "55752d76-5011-452d-c50a-f0107b2ac83a"
      },
      "execution_count": 85,
      "outputs": [
        {
          "output_type": "execute_result",
          "data": {
            "text/plain": [
              "   Unnamed: 0 Chave Dt. Operação Tipo Operação  Quantidade  Preço  \\\n",
              "0           0    B2   2022-04-01             V      8942.0  18.20   \n",
              "1           1    B3   2022-06-23             V      9512.0  14.84   \n",
              "2           2    B4   2022-08-26             V     12907.0  22.51   \n",
              "3           3    B5   2022-05-30             V      5088.0  14.49   \n",
              "4           4    B6   2022-10-19             V    226229.0   1.83   \n",
              "\n",
              "   Valor Líquido Vencimento      DI                          UniqueID  \n",
              "0      162754.49 2023-08-18  0.1230  Cliente 10_2022-04-01_ABCB4_STDE  \n",
              "1      141162.79 2023-10-23  0.1321  Cliente 10_2022-06-23_ABCB4_AGOR  \n",
              "2      290493.57 2023-03-22  0.1374  Cliente 10_2022-08-26_ABCB4_TERR  \n",
              "3       73724.16 2022-06-28  0.1286  Cliente 10_2022-05-30_ABEV3_MIRA  \n",
              "4      413603.52 2023-09-01  0.1333  Cliente 10_2022-10-19_AERI3_AGOR  "
            ],
            "text/html": [
              "\n",
              "  <div id=\"df-1ee67af0-f3e6-4f9c-a882-c96f34789c46\" class=\"colab-df-container\">\n",
              "    <div>\n",
              "<style scoped>\n",
              "    .dataframe tbody tr th:only-of-type {\n",
              "        vertical-align: middle;\n",
              "    }\n",
              "\n",
              "    .dataframe tbody tr th {\n",
              "        vertical-align: top;\n",
              "    }\n",
              "\n",
              "    .dataframe thead th {\n",
              "        text-align: right;\n",
              "    }\n",
              "</style>\n",
              "<table border=\"1\" class=\"dataframe\">\n",
              "  <thead>\n",
              "    <tr style=\"text-align: right;\">\n",
              "      <th></th>\n",
              "      <th>Unnamed: 0</th>\n",
              "      <th>Chave</th>\n",
              "      <th>Dt. Operação</th>\n",
              "      <th>Tipo Operação</th>\n",
              "      <th>Quantidade</th>\n",
              "      <th>Preço</th>\n",
              "      <th>Valor Líquido</th>\n",
              "      <th>Vencimento</th>\n",
              "      <th>DI</th>\n",
              "      <th>UniqueID</th>\n",
              "    </tr>\n",
              "  </thead>\n",
              "  <tbody>\n",
              "    <tr>\n",
              "      <th>0</th>\n",
              "      <td>0</td>\n",
              "      <td>B2</td>\n",
              "      <td>2022-04-01</td>\n",
              "      <td>V</td>\n",
              "      <td>8942.0</td>\n",
              "      <td>18.20</td>\n",
              "      <td>162754.49</td>\n",
              "      <td>2023-08-18</td>\n",
              "      <td>0.1230</td>\n",
              "      <td>Cliente 10_2022-04-01_ABCB4_STDE</td>\n",
              "    </tr>\n",
              "    <tr>\n",
              "      <th>1</th>\n",
              "      <td>1</td>\n",
              "      <td>B3</td>\n",
              "      <td>2022-06-23</td>\n",
              "      <td>V</td>\n",
              "      <td>9512.0</td>\n",
              "      <td>14.84</td>\n",
              "      <td>141162.79</td>\n",
              "      <td>2023-10-23</td>\n",
              "      <td>0.1321</td>\n",
              "      <td>Cliente 10_2022-06-23_ABCB4_AGOR</td>\n",
              "    </tr>\n",
              "    <tr>\n",
              "      <th>2</th>\n",
              "      <td>2</td>\n",
              "      <td>B4</td>\n",
              "      <td>2022-08-26</td>\n",
              "      <td>V</td>\n",
              "      <td>12907.0</td>\n",
              "      <td>22.51</td>\n",
              "      <td>290493.57</td>\n",
              "      <td>2023-03-22</td>\n",
              "      <td>0.1374</td>\n",
              "      <td>Cliente 10_2022-08-26_ABCB4_TERR</td>\n",
              "    </tr>\n",
              "    <tr>\n",
              "      <th>3</th>\n",
              "      <td>3</td>\n",
              "      <td>B5</td>\n",
              "      <td>2022-05-30</td>\n",
              "      <td>V</td>\n",
              "      <td>5088.0</td>\n",
              "      <td>14.49</td>\n",
              "      <td>73724.16</td>\n",
              "      <td>2022-06-28</td>\n",
              "      <td>0.1286</td>\n",
              "      <td>Cliente 10_2022-05-30_ABEV3_MIRA</td>\n",
              "    </tr>\n",
              "    <tr>\n",
              "      <th>4</th>\n",
              "      <td>4</td>\n",
              "      <td>B6</td>\n",
              "      <td>2022-10-19</td>\n",
              "      <td>V</td>\n",
              "      <td>226229.0</td>\n",
              "      <td>1.83</td>\n",
              "      <td>413603.52</td>\n",
              "      <td>2023-09-01</td>\n",
              "      <td>0.1333</td>\n",
              "      <td>Cliente 10_2022-10-19_AERI3_AGOR</td>\n",
              "    </tr>\n",
              "  </tbody>\n",
              "</table>\n",
              "</div>\n",
              "    <div class=\"colab-df-buttons\">\n",
              "\n",
              "  <div class=\"colab-df-container\">\n",
              "    <button class=\"colab-df-convert\" onclick=\"convertToInteractive('df-1ee67af0-f3e6-4f9c-a882-c96f34789c46')\"\n",
              "            title=\"Convert this dataframe to an interactive table.\"\n",
              "            style=\"display:none;\">\n",
              "\n",
              "  <svg xmlns=\"http://www.w3.org/2000/svg\" height=\"24px\" viewBox=\"0 -960 960 960\">\n",
              "    <path d=\"M120-120v-720h720v720H120Zm60-500h600v-160H180v160Zm220 220h160v-160H400v160Zm0 220h160v-160H400v160ZM180-400h160v-160H180v160Zm440 0h160v-160H620v160ZM180-180h160v-160H180v160Zm440 0h160v-160H620v160Z\"/>\n",
              "  </svg>\n",
              "    </button>\n",
              "\n",
              "  <style>\n",
              "    .colab-df-container {\n",
              "      display:flex;\n",
              "      gap: 12px;\n",
              "    }\n",
              "\n",
              "    .colab-df-convert {\n",
              "      background-color: #E8F0FE;\n",
              "      border: none;\n",
              "      border-radius: 50%;\n",
              "      cursor: pointer;\n",
              "      display: none;\n",
              "      fill: #1967D2;\n",
              "      height: 32px;\n",
              "      padding: 0 0 0 0;\n",
              "      width: 32px;\n",
              "    }\n",
              "\n",
              "    .colab-df-convert:hover {\n",
              "      background-color: #E2EBFA;\n",
              "      box-shadow: 0px 1px 2px rgba(60, 64, 67, 0.3), 0px 1px 3px 1px rgba(60, 64, 67, 0.15);\n",
              "      fill: #174EA6;\n",
              "    }\n",
              "\n",
              "    .colab-df-buttons div {\n",
              "      margin-bottom: 4px;\n",
              "    }\n",
              "\n",
              "    [theme=dark] .colab-df-convert {\n",
              "      background-color: #3B4455;\n",
              "      fill: #D2E3FC;\n",
              "    }\n",
              "\n",
              "    [theme=dark] .colab-df-convert:hover {\n",
              "      background-color: #434B5C;\n",
              "      box-shadow: 0px 1px 3px 1px rgba(0, 0, 0, 0.15);\n",
              "      filter: drop-shadow(0px 1px 2px rgba(0, 0, 0, 0.3));\n",
              "      fill: #FFFFFF;\n",
              "    }\n",
              "  </style>\n",
              "\n",
              "    <script>\n",
              "      const buttonEl =\n",
              "        document.querySelector('#df-1ee67af0-f3e6-4f9c-a882-c96f34789c46 button.colab-df-convert');\n",
              "      buttonEl.style.display =\n",
              "        google.colab.kernel.accessAllowed ? 'block' : 'none';\n",
              "\n",
              "      async function convertToInteractive(key) {\n",
              "        const element = document.querySelector('#df-1ee67af0-f3e6-4f9c-a882-c96f34789c46');\n",
              "        const dataTable =\n",
              "          await google.colab.kernel.invokeFunction('convertToInteractive',\n",
              "                                                    [key], {});\n",
              "        if (!dataTable) return;\n",
              "\n",
              "        const docLinkHtml = 'Like what you see? Visit the ' +\n",
              "          '<a target=\"_blank\" href=https://colab.research.google.com/notebooks/data_table.ipynb>data table notebook</a>'\n",
              "          + ' to learn more about interactive tables.';\n",
              "        element.innerHTML = '';\n",
              "        dataTable['output_type'] = 'display_data';\n",
              "        await google.colab.output.renderOutput(dataTable, element);\n",
              "        const docLink = document.createElement('div');\n",
              "        docLink.innerHTML = docLinkHtml;\n",
              "        element.appendChild(docLink);\n",
              "      }\n",
              "    </script>\n",
              "  </div>\n",
              "\n",
              "\n",
              "<div id=\"df-2c6ab33b-7757-48c0-9bef-64341cda5b07\">\n",
              "  <button class=\"colab-df-quickchart\" onclick=\"quickchart('df-2c6ab33b-7757-48c0-9bef-64341cda5b07')\"\n",
              "            title=\"Suggest charts\"\n",
              "            style=\"display:none;\">\n",
              "\n",
              "<svg xmlns=\"http://www.w3.org/2000/svg\" height=\"24px\"viewBox=\"0 0 24 24\"\n",
              "     width=\"24px\">\n",
              "    <g>\n",
              "        <path d=\"M19 3H5c-1.1 0-2 .9-2 2v14c0 1.1.9 2 2 2h14c1.1 0 2-.9 2-2V5c0-1.1-.9-2-2-2zM9 17H7v-7h2v7zm4 0h-2V7h2v10zm4 0h-2v-4h2v4z\"/>\n",
              "    </g>\n",
              "</svg>\n",
              "  </button>\n",
              "\n",
              "<style>\n",
              "  .colab-df-quickchart {\n",
              "      --bg-color: #E8F0FE;\n",
              "      --fill-color: #1967D2;\n",
              "      --hover-bg-color: #E2EBFA;\n",
              "      --hover-fill-color: #174EA6;\n",
              "      --disabled-fill-color: #AAA;\n",
              "      --disabled-bg-color: #DDD;\n",
              "  }\n",
              "\n",
              "  [theme=dark] .colab-df-quickchart {\n",
              "      --bg-color: #3B4455;\n",
              "      --fill-color: #D2E3FC;\n",
              "      --hover-bg-color: #434B5C;\n",
              "      --hover-fill-color: #FFFFFF;\n",
              "      --disabled-bg-color: #3B4455;\n",
              "      --disabled-fill-color: #666;\n",
              "  }\n",
              "\n",
              "  .colab-df-quickchart {\n",
              "    background-color: var(--bg-color);\n",
              "    border: none;\n",
              "    border-radius: 50%;\n",
              "    cursor: pointer;\n",
              "    display: none;\n",
              "    fill: var(--fill-color);\n",
              "    height: 32px;\n",
              "    padding: 0;\n",
              "    width: 32px;\n",
              "  }\n",
              "\n",
              "  .colab-df-quickchart:hover {\n",
              "    background-color: var(--hover-bg-color);\n",
              "    box-shadow: 0 1px 2px rgba(60, 64, 67, 0.3), 0 1px 3px 1px rgba(60, 64, 67, 0.15);\n",
              "    fill: var(--button-hover-fill-color);\n",
              "  }\n",
              "\n",
              "  .colab-df-quickchart-complete:disabled,\n",
              "  .colab-df-quickchart-complete:disabled:hover {\n",
              "    background-color: var(--disabled-bg-color);\n",
              "    fill: var(--disabled-fill-color);\n",
              "    box-shadow: none;\n",
              "  }\n",
              "\n",
              "  .colab-df-spinner {\n",
              "    border: 2px solid var(--fill-color);\n",
              "    border-color: transparent;\n",
              "    border-bottom-color: var(--fill-color);\n",
              "    animation:\n",
              "      spin 1s steps(1) infinite;\n",
              "  }\n",
              "\n",
              "  @keyframes spin {\n",
              "    0% {\n",
              "      border-color: transparent;\n",
              "      border-bottom-color: var(--fill-color);\n",
              "      border-left-color: var(--fill-color);\n",
              "    }\n",
              "    20% {\n",
              "      border-color: transparent;\n",
              "      border-left-color: var(--fill-color);\n",
              "      border-top-color: var(--fill-color);\n",
              "    }\n",
              "    30% {\n",
              "      border-color: transparent;\n",
              "      border-left-color: var(--fill-color);\n",
              "      border-top-color: var(--fill-color);\n",
              "      border-right-color: var(--fill-color);\n",
              "    }\n",
              "    40% {\n",
              "      border-color: transparent;\n",
              "      border-right-color: var(--fill-color);\n",
              "      border-top-color: var(--fill-color);\n",
              "    }\n",
              "    60% {\n",
              "      border-color: transparent;\n",
              "      border-right-color: var(--fill-color);\n",
              "    }\n",
              "    80% {\n",
              "      border-color: transparent;\n",
              "      border-right-color: var(--fill-color);\n",
              "      border-bottom-color: var(--fill-color);\n",
              "    }\n",
              "    90% {\n",
              "      border-color: transparent;\n",
              "      border-bottom-color: var(--fill-color);\n",
              "    }\n",
              "  }\n",
              "</style>\n",
              "\n",
              "  <script>\n",
              "    async function quickchart(key) {\n",
              "      const quickchartButtonEl =\n",
              "        document.querySelector('#' + key + ' button');\n",
              "      quickchartButtonEl.disabled = true;  // To prevent multiple clicks.\n",
              "      quickchartButtonEl.classList.add('colab-df-spinner');\n",
              "      try {\n",
              "        const charts = await google.colab.kernel.invokeFunction(\n",
              "            'suggestCharts', [key], {});\n",
              "      } catch (error) {\n",
              "        console.error('Error during call to suggestCharts:', error);\n",
              "      }\n",
              "      quickchartButtonEl.classList.remove('colab-df-spinner');\n",
              "      quickchartButtonEl.classList.add('colab-df-quickchart-complete');\n",
              "    }\n",
              "    (() => {\n",
              "      let quickchartButtonEl =\n",
              "        document.querySelector('#df-2c6ab33b-7757-48c0-9bef-64341cda5b07 button');\n",
              "      quickchartButtonEl.style.display =\n",
              "        google.colab.kernel.accessAllowed ? 'block' : 'none';\n",
              "    })();\n",
              "  </script>\n",
              "</div>\n",
              "    </div>\n",
              "  </div>\n"
            ],
            "application/vnd.google.colaboratory.intrinsic+json": {
              "type": "dataframe",
              "variable_name": "df_vendas_final",
              "summary": "{\n  \"name\": \"df_vendas_final\",\n  \"rows\": 49247,\n  \"fields\": [\n    {\n      \"column\": \"Unnamed: 0\",\n      \"properties\": {\n        \"dtype\": \"number\",\n        \"std\": 14216,\n        \"min\": 0,\n        \"max\": 49246,\n        \"num_unique_values\": 49247,\n        \"samples\": [\n          46287,\n          37747,\n          27034\n        ],\n        \"semantic_type\": \"\",\n        \"description\": \"\"\n      }\n    },\n    {\n      \"column\": \"Chave\",\n      \"properties\": {\n        \"dtype\": \"string\",\n        \"num_unique_values\": 49247,\n        \"samples\": [\n          \"41862A\",\n          \"33322A\",\n          \"22609A\"\n        ],\n        \"semantic_type\": \"\",\n        \"description\": \"\"\n      }\n    },\n    {\n      \"column\": \"Dt. Opera\\u00e7\\u00e3o\",\n      \"properties\": {\n        \"dtype\": \"date\",\n        \"min\": \"2022-02-02 00:00:00\",\n        \"max\": \"2023-12-26 00:00:00\",\n        \"num_unique_values\": 454,\n        \"samples\": [\n          \"2023-11-27 00:00:00\",\n          \"2022-09-23 00:00:00\",\n          \"2023-12-06 00:00:00\"\n        ],\n        \"semantic_type\": \"\",\n        \"description\": \"\"\n      }\n    },\n    {\n      \"column\": \"Tipo Opera\\u00e7\\u00e3o\",\n      \"properties\": {\n        \"dtype\": \"category\",\n        \"num_unique_values\": 1,\n        \"samples\": [\n          \"V\"\n        ],\n        \"semantic_type\": \"\",\n        \"description\": \"\"\n      }\n    },\n    {\n      \"column\": \"Quantidade\",\n      \"properties\": {\n        \"dtype\": \"number\",\n        \"std\": 48755.54992699138,\n        \"min\": 1.0,\n        \"max\": 4449223.0,\n        \"num_unique_values\": 12913,\n        \"samples\": [\n          20574.0\n        ],\n        \"semantic_type\": \"\",\n        \"description\": \"\"\n      }\n    },\n    {\n      \"column\": \"Pre\\u00e7o\",\n      \"properties\": {\n        \"dtype\": \"number\",\n        \"std\": 59.1111186203718,\n        \"min\": 0.17,\n        \"max\": 4199.38,\n        \"num_unique_values\": 7285,\n        \"samples\": [\n          35.26\n        ],\n        \"semantic_type\": \"\",\n        \"description\": \"\"\n      }\n    },\n    {\n      \"column\": \"Valor L\\u00edquido\",\n      \"properties\": {\n        \"dtype\": \"number\",\n        \"std\": 571587.334824363,\n        \"min\": -4926.24,\n        \"max\": 39689537.19,\n        \"num_unique_values\": 46923,\n        \"samples\": [\n          11587.29\n        ],\n        \"semantic_type\": \"\",\n        \"description\": \"\"\n      }\n    },\n    {\n      \"column\": \"Vencimento\",\n      \"properties\": {\n        \"dtype\": \"date\",\n        \"min\": \"2022-02-10 00:00:00\",\n        \"max\": \"2025-03-14 00:00:00\",\n        \"num_unique_values\": 681,\n        \"samples\": [\n          \"2024-11-20 00:00:00\"\n        ],\n        \"semantic_type\": \"\",\n        \"description\": \"\"\n      }\n    },\n    {\n      \"column\": \"DI\",\n      \"properties\": {\n        \"dtype\": \"number\",\n        \"std\": 0.007673754150691001,\n        \"min\": 0.10060000000000001,\n        \"max\": 0.146,\n        \"num_unique_values\": 400,\n        \"samples\": [\n          0.1277\n        ],\n        \"semantic_type\": \"\",\n        \"description\": \"\"\n      }\n    },\n    {\n      \"column\": \"UniqueID\",\n      \"properties\": {\n        \"dtype\": \"category\",\n        \"num_unique_values\": 18389,\n        \"samples\": [\n          \"Cliente 12_2023-04-25_USIM5_XPIN\"\n        ],\n        \"semantic_type\": \"\",\n        \"description\": \"\"\n      }\n    }\n  ]\n}"
            }
          },
          "metadata": {},
          "execution_count": 85
        }
      ]
    },
    {
      "cell_type": "code",
      "source": [
        "df_compras_final.head()"
      ],
      "metadata": {
        "colab": {
          "base_uri": "https://localhost:8080/",
          "height": 206
        },
        "id": "y9EFGoKcZYfh",
        "outputId": "1c91e215-9df4-4514-dec5-ecbbfdce0da5"
      },
      "execution_count": 86,
      "outputs": [
        {
          "output_type": "execute_result",
          "data": {
            "text/plain": [
              "   Unnamed: 0 Dt. Operação Tipo Operação  Quantidade  Preço  Valor Líquido  \\\n",
              "0           0   2022-04-01             C      1236.0  15.56      -19232.17   \n",
              "1           1   2022-04-01             C      1360.0  15.88      -21593.84   \n",
              "2           2   2022-04-01             C      1755.0  15.51      -27225.68   \n",
              "3           3   2022-04-01             C      1567.0  15.67      -24553.20   \n",
              "4           4   2022-04-01             C      1271.0  15.60      -19833.77   \n",
              "\n",
              "                           UniqueID  \n",
              "0  Cliente 10_2022-04-01_ABCB4_STDE  \n",
              "1  Cliente 10_2022-04-01_ABCB4_STDE  \n",
              "2  Cliente 10_2022-04-01_ABCB4_STDE  \n",
              "3  Cliente 10_2022-04-01_ABCB4_STDE  \n",
              "4  Cliente 10_2022-04-01_ABCB4_STDE  "
            ],
            "text/html": [
              "\n",
              "  <div id=\"df-238ce251-920b-4176-b39a-29a266240089\" class=\"colab-df-container\">\n",
              "    <div>\n",
              "<style scoped>\n",
              "    .dataframe tbody tr th:only-of-type {\n",
              "        vertical-align: middle;\n",
              "    }\n",
              "\n",
              "    .dataframe tbody tr th {\n",
              "        vertical-align: top;\n",
              "    }\n",
              "\n",
              "    .dataframe thead th {\n",
              "        text-align: right;\n",
              "    }\n",
              "</style>\n",
              "<table border=\"1\" class=\"dataframe\">\n",
              "  <thead>\n",
              "    <tr style=\"text-align: right;\">\n",
              "      <th></th>\n",
              "      <th>Unnamed: 0</th>\n",
              "      <th>Dt. Operação</th>\n",
              "      <th>Tipo Operação</th>\n",
              "      <th>Quantidade</th>\n",
              "      <th>Preço</th>\n",
              "      <th>Valor Líquido</th>\n",
              "      <th>UniqueID</th>\n",
              "    </tr>\n",
              "  </thead>\n",
              "  <tbody>\n",
              "    <tr>\n",
              "      <th>0</th>\n",
              "      <td>0</td>\n",
              "      <td>2022-04-01</td>\n",
              "      <td>C</td>\n",
              "      <td>1236.0</td>\n",
              "      <td>15.56</td>\n",
              "      <td>-19232.17</td>\n",
              "      <td>Cliente 10_2022-04-01_ABCB4_STDE</td>\n",
              "    </tr>\n",
              "    <tr>\n",
              "      <th>1</th>\n",
              "      <td>1</td>\n",
              "      <td>2022-04-01</td>\n",
              "      <td>C</td>\n",
              "      <td>1360.0</td>\n",
              "      <td>15.88</td>\n",
              "      <td>-21593.84</td>\n",
              "      <td>Cliente 10_2022-04-01_ABCB4_STDE</td>\n",
              "    </tr>\n",
              "    <tr>\n",
              "      <th>2</th>\n",
              "      <td>2</td>\n",
              "      <td>2022-04-01</td>\n",
              "      <td>C</td>\n",
              "      <td>1755.0</td>\n",
              "      <td>15.51</td>\n",
              "      <td>-27225.68</td>\n",
              "      <td>Cliente 10_2022-04-01_ABCB4_STDE</td>\n",
              "    </tr>\n",
              "    <tr>\n",
              "      <th>3</th>\n",
              "      <td>3</td>\n",
              "      <td>2022-04-01</td>\n",
              "      <td>C</td>\n",
              "      <td>1567.0</td>\n",
              "      <td>15.67</td>\n",
              "      <td>-24553.20</td>\n",
              "      <td>Cliente 10_2022-04-01_ABCB4_STDE</td>\n",
              "    </tr>\n",
              "    <tr>\n",
              "      <th>4</th>\n",
              "      <td>4</td>\n",
              "      <td>2022-04-01</td>\n",
              "      <td>C</td>\n",
              "      <td>1271.0</td>\n",
              "      <td>15.60</td>\n",
              "      <td>-19833.77</td>\n",
              "      <td>Cliente 10_2022-04-01_ABCB4_STDE</td>\n",
              "    </tr>\n",
              "  </tbody>\n",
              "</table>\n",
              "</div>\n",
              "    <div class=\"colab-df-buttons\">\n",
              "\n",
              "  <div class=\"colab-df-container\">\n",
              "    <button class=\"colab-df-convert\" onclick=\"convertToInteractive('df-238ce251-920b-4176-b39a-29a266240089')\"\n",
              "            title=\"Convert this dataframe to an interactive table.\"\n",
              "            style=\"display:none;\">\n",
              "\n",
              "  <svg xmlns=\"http://www.w3.org/2000/svg\" height=\"24px\" viewBox=\"0 -960 960 960\">\n",
              "    <path d=\"M120-120v-720h720v720H120Zm60-500h600v-160H180v160Zm220 220h160v-160H400v160Zm0 220h160v-160H400v160ZM180-400h160v-160H180v160Zm440 0h160v-160H620v160ZM180-180h160v-160H180v160Zm440 0h160v-160H620v160Z\"/>\n",
              "  </svg>\n",
              "    </button>\n",
              "\n",
              "  <style>\n",
              "    .colab-df-container {\n",
              "      display:flex;\n",
              "      gap: 12px;\n",
              "    }\n",
              "\n",
              "    .colab-df-convert {\n",
              "      background-color: #E8F0FE;\n",
              "      border: none;\n",
              "      border-radius: 50%;\n",
              "      cursor: pointer;\n",
              "      display: none;\n",
              "      fill: #1967D2;\n",
              "      height: 32px;\n",
              "      padding: 0 0 0 0;\n",
              "      width: 32px;\n",
              "    }\n",
              "\n",
              "    .colab-df-convert:hover {\n",
              "      background-color: #E2EBFA;\n",
              "      box-shadow: 0px 1px 2px rgba(60, 64, 67, 0.3), 0px 1px 3px 1px rgba(60, 64, 67, 0.15);\n",
              "      fill: #174EA6;\n",
              "    }\n",
              "\n",
              "    .colab-df-buttons div {\n",
              "      margin-bottom: 4px;\n",
              "    }\n",
              "\n",
              "    [theme=dark] .colab-df-convert {\n",
              "      background-color: #3B4455;\n",
              "      fill: #D2E3FC;\n",
              "    }\n",
              "\n",
              "    [theme=dark] .colab-df-convert:hover {\n",
              "      background-color: #434B5C;\n",
              "      box-shadow: 0px 1px 3px 1px rgba(0, 0, 0, 0.15);\n",
              "      filter: drop-shadow(0px 1px 2px rgba(0, 0, 0, 0.3));\n",
              "      fill: #FFFFFF;\n",
              "    }\n",
              "  </style>\n",
              "\n",
              "    <script>\n",
              "      const buttonEl =\n",
              "        document.querySelector('#df-238ce251-920b-4176-b39a-29a266240089 button.colab-df-convert');\n",
              "      buttonEl.style.display =\n",
              "        google.colab.kernel.accessAllowed ? 'block' : 'none';\n",
              "\n",
              "      async function convertToInteractive(key) {\n",
              "        const element = document.querySelector('#df-238ce251-920b-4176-b39a-29a266240089');\n",
              "        const dataTable =\n",
              "          await google.colab.kernel.invokeFunction('convertToInteractive',\n",
              "                                                    [key], {});\n",
              "        if (!dataTable) return;\n",
              "\n",
              "        const docLinkHtml = 'Like what you see? Visit the ' +\n",
              "          '<a target=\"_blank\" href=https://colab.research.google.com/notebooks/data_table.ipynb>data table notebook</a>'\n",
              "          + ' to learn more about interactive tables.';\n",
              "        element.innerHTML = '';\n",
              "        dataTable['output_type'] = 'display_data';\n",
              "        await google.colab.output.renderOutput(dataTable, element);\n",
              "        const docLink = document.createElement('div');\n",
              "        docLink.innerHTML = docLinkHtml;\n",
              "        element.appendChild(docLink);\n",
              "      }\n",
              "    </script>\n",
              "  </div>\n",
              "\n",
              "\n",
              "<div id=\"df-3423ff7b-26c6-458d-9163-4f3fa49ce415\">\n",
              "  <button class=\"colab-df-quickchart\" onclick=\"quickchart('df-3423ff7b-26c6-458d-9163-4f3fa49ce415')\"\n",
              "            title=\"Suggest charts\"\n",
              "            style=\"display:none;\">\n",
              "\n",
              "<svg xmlns=\"http://www.w3.org/2000/svg\" height=\"24px\"viewBox=\"0 0 24 24\"\n",
              "     width=\"24px\">\n",
              "    <g>\n",
              "        <path d=\"M19 3H5c-1.1 0-2 .9-2 2v14c0 1.1.9 2 2 2h14c1.1 0 2-.9 2-2V5c0-1.1-.9-2-2-2zM9 17H7v-7h2v7zm4 0h-2V7h2v10zm4 0h-2v-4h2v4z\"/>\n",
              "    </g>\n",
              "</svg>\n",
              "  </button>\n",
              "\n",
              "<style>\n",
              "  .colab-df-quickchart {\n",
              "      --bg-color: #E8F0FE;\n",
              "      --fill-color: #1967D2;\n",
              "      --hover-bg-color: #E2EBFA;\n",
              "      --hover-fill-color: #174EA6;\n",
              "      --disabled-fill-color: #AAA;\n",
              "      --disabled-bg-color: #DDD;\n",
              "  }\n",
              "\n",
              "  [theme=dark] .colab-df-quickchart {\n",
              "      --bg-color: #3B4455;\n",
              "      --fill-color: #D2E3FC;\n",
              "      --hover-bg-color: #434B5C;\n",
              "      --hover-fill-color: #FFFFFF;\n",
              "      --disabled-bg-color: #3B4455;\n",
              "      --disabled-fill-color: #666;\n",
              "  }\n",
              "\n",
              "  .colab-df-quickchart {\n",
              "    background-color: var(--bg-color);\n",
              "    border: none;\n",
              "    border-radius: 50%;\n",
              "    cursor: pointer;\n",
              "    display: none;\n",
              "    fill: var(--fill-color);\n",
              "    height: 32px;\n",
              "    padding: 0;\n",
              "    width: 32px;\n",
              "  }\n",
              "\n",
              "  .colab-df-quickchart:hover {\n",
              "    background-color: var(--hover-bg-color);\n",
              "    box-shadow: 0 1px 2px rgba(60, 64, 67, 0.3), 0 1px 3px 1px rgba(60, 64, 67, 0.15);\n",
              "    fill: var(--button-hover-fill-color);\n",
              "  }\n",
              "\n",
              "  .colab-df-quickchart-complete:disabled,\n",
              "  .colab-df-quickchart-complete:disabled:hover {\n",
              "    background-color: var(--disabled-bg-color);\n",
              "    fill: var(--disabled-fill-color);\n",
              "    box-shadow: none;\n",
              "  }\n",
              "\n",
              "  .colab-df-spinner {\n",
              "    border: 2px solid var(--fill-color);\n",
              "    border-color: transparent;\n",
              "    border-bottom-color: var(--fill-color);\n",
              "    animation:\n",
              "      spin 1s steps(1) infinite;\n",
              "  }\n",
              "\n",
              "  @keyframes spin {\n",
              "    0% {\n",
              "      border-color: transparent;\n",
              "      border-bottom-color: var(--fill-color);\n",
              "      border-left-color: var(--fill-color);\n",
              "    }\n",
              "    20% {\n",
              "      border-color: transparent;\n",
              "      border-left-color: var(--fill-color);\n",
              "      border-top-color: var(--fill-color);\n",
              "    }\n",
              "    30% {\n",
              "      border-color: transparent;\n",
              "      border-left-color: var(--fill-color);\n",
              "      border-top-color: var(--fill-color);\n",
              "      border-right-color: var(--fill-color);\n",
              "    }\n",
              "    40% {\n",
              "      border-color: transparent;\n",
              "      border-right-color: var(--fill-color);\n",
              "      border-top-color: var(--fill-color);\n",
              "    }\n",
              "    60% {\n",
              "      border-color: transparent;\n",
              "      border-right-color: var(--fill-color);\n",
              "    }\n",
              "    80% {\n",
              "      border-color: transparent;\n",
              "      border-right-color: var(--fill-color);\n",
              "      border-bottom-color: var(--fill-color);\n",
              "    }\n",
              "    90% {\n",
              "      border-color: transparent;\n",
              "      border-bottom-color: var(--fill-color);\n",
              "    }\n",
              "  }\n",
              "</style>\n",
              "\n",
              "  <script>\n",
              "    async function quickchart(key) {\n",
              "      const quickchartButtonEl =\n",
              "        document.querySelector('#' + key + ' button');\n",
              "      quickchartButtonEl.disabled = true;  // To prevent multiple clicks.\n",
              "      quickchartButtonEl.classList.add('colab-df-spinner');\n",
              "      try {\n",
              "        const charts = await google.colab.kernel.invokeFunction(\n",
              "            'suggestCharts', [key], {});\n",
              "      } catch (error) {\n",
              "        console.error('Error during call to suggestCharts:', error);\n",
              "      }\n",
              "      quickchartButtonEl.classList.remove('colab-df-spinner');\n",
              "      quickchartButtonEl.classList.add('colab-df-quickchart-complete');\n",
              "    }\n",
              "    (() => {\n",
              "      let quickchartButtonEl =\n",
              "        document.querySelector('#df-3423ff7b-26c6-458d-9163-4f3fa49ce415 button');\n",
              "      quickchartButtonEl.style.display =\n",
              "        google.colab.kernel.accessAllowed ? 'block' : 'none';\n",
              "    })();\n",
              "  </script>\n",
              "</div>\n",
              "    </div>\n",
              "  </div>\n"
            ],
            "application/vnd.google.colaboratory.intrinsic+json": {
              "type": "dataframe",
              "variable_name": "df_compras_final"
            }
          },
          "metadata": {},
          "execution_count": 86
        }
      ]
    },
    {
      "cell_type": "markdown",
      "source": [
        "## Exploração Casamento Manual\n",
        "Com foco em extrair alguns casamentos, mesmo que de forma artificial, para exploração, foram agrupados então, vendas e casamentos, com base na coluna anterior, para posterior combinação."
      ],
      "metadata": {
        "id": "3FvNi0BHZevn"
      }
    },
    {
      "cell_type": "code",
      "source": [
        "df_vendas_grouped = df_vendas_final.groupby(\"UniqueID\")\n",
        "df_compras_grouped = df_compras_final.groupby(\"UniqueID\")"
      ],
      "metadata": {
        "id": "igqBrOKkZ1-E"
      },
      "execution_count": 87,
      "outputs": []
    },
    {
      "cell_type": "markdown",
      "source": [
        "### Funções Auxiliares\n",
        "Para validar os casamentos, foi necessário a criação de duas funções auxiliares:\n",
        "![image.png](data:image/png;base64,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)"
      ],
      "metadata": {
        "id": "5nnEd0oyZ_Nd"
      }
    },
    {
      "cell_type": "markdown",
      "source": [
        "1. Calc Rent - Tem como objetivo calcular a rentabilidade baseada no CDI, de um casamento, com base nos valores de compra, venda, taxa DU ($ \\frac{252}{du} $), além do índice DI."
      ],
      "metadata": {
        "id": "pksKpiPJakRM"
      }
    },
    {
      "cell_type": "code",
      "source": [
        "def calc_rent(buy_value, sell_value, du_idx, di_rent):\n",
        "  buy_sell_rent = (sell_value / buy_value) - 1\n",
        "  rent_anual = (1 + buy_sell_rent) ** du_idx - 1\n",
        "  rent_over_cdi = rent_anual / di_rent\n",
        "  return rent_over_cdi"
      ],
      "metadata": {
        "id": "LrJzpiAtZ-Sd"
      },
      "execution_count": 88,
      "outputs": []
    },
    {
      "cell_type": "markdown",
      "source": [
        "2. Calc DU IDX - Tem como objetivo calcular a taxa DU, relativa aos dias úteis. Nesse caso, foi necessário levar em consideração o calendário brasileiro da bolsa, para a contagem dos dias."
      ],
      "metadata": {
        "id": "6LUIr6F6bJwz"
      }
    },
    {
      "cell_type": "code",
      "source": [
        "brazil_calendar = mcal.get_calendar('BMF')\n",
        "\n",
        "def calc_du_idx(start_date,end_date):\n",
        "  time_frame = brazil_calendar.schedule(start_date, end_date)\n",
        "  date_range = mcal.date_range(time_frame, frequency='1D')\n",
        "  return 252 / (len(date_range) - 1)"
      ],
      "metadata": {
        "id": "JyJQb8BEZ8WN"
      },
      "execution_count": 89,
      "outputs": []
    },
    {
      "cell_type": "markdown",
      "source": [
        "Exemplo de uso:\n",
        "\n",
        "![image.png](data:image/png;base64,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)\n",
        "\n",
        "![image.png](data:image/png;base64,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)"
      ],
      "metadata": {
        "id": "QhEDhlNFcFM_"
      }
    },
    {
      "cell_type": "code",
      "source": [
        "from datetime import datetime\n",
        "du = calc_du_idx(datetime(2024, 1, 26), datetime(2024, 2, 26))\n",
        "calc_rent(58.36317,58.946802, du, 0.11295)"
      ],
      "metadata": {
        "colab": {
          "base_uri": "https://localhost:8080/"
        },
        "id": "gsoRnItFcEtR",
        "outputId": "959008e2-70aa-450a-8204-bf7214be3cf1"
      },
      "execution_count": 90,
      "outputs": [
        {
          "output_type": "execute_result",
          "data": {
            "text/plain": [
              "1.249024958621961"
            ]
          },
          "metadata": {},
          "execution_count": 90
        }
      ]
    },
    {
      "cell_type": "markdown",
      "source": [
        "### Processo de Casamento\n",
        "Então, tentamos os casamentos hipotéticos, agrupando as compras com base no preço médio, além do ID mencionado anteriormente. Filtramos neste caso, de forma superficial, os valores que estivessem próximos de 100% do CDI, e alguns que desviassem do valor esperado."
      ],
      "metadata": {
        "id": "7IQHYeGGcODZ"
      }
    },
    {
      "cell_type": "code",
      "source": [
        "hipotetical_match = []\n",
        "for group in df_vendas_grouped.groups:\n",
        "  venda_group = df_vendas_grouped.get_group(group)\n",
        "  compra_group = df_compras_grouped.get_group(group)\n",
        "  compra_group_grouped = compra_group.groupby(\"Preço\").agg({'Preço': 'mean', 'Quantidade':'sum', 'Valor Líquido': 'sum'})\n",
        "  for idx, row in venda_group.iterrows():\n",
        "    for _, c_row in compra_group_grouped.iterrows():\n",
        "      if row[\"Quantidade\"] == c_row[\"Quantidade\"]:\n",
        "        du = calc_du_idx(row[\"Dt. Operação\"], row[\"Vencimento\"])\n",
        "        rent = calc_rent(abs(c_row[\"Valor Líquido\"]), row[\"Valor Líquido\"], du, row[\"DI\"])\n",
        "        if abs((rent * 100) - 100) < 30:\n",
        "          hipotetical_match.append(rent * 100)\n",
        "hipotetical_match"
      ],
      "metadata": {
        "colab": {
          "base_uri": "https://localhost:8080/"
        },
        "id": "uX2lID_lcZZF",
        "outputId": "d53f9130-1a01-49ec-e0d6-e825a9eaa70d"
      },
      "execution_count": 91,
      "outputs": [
        {
          "output_type": "execute_result",
          "data": {
            "text/plain": [
              "[87.86614795679174,\n",
              " 102.50786667063836,\n",
              " 98.86787596490981,\n",
              " 86.57832730810246,\n",
              " 95.04294488639955,\n",
              " 100.89171559755687,\n",
              " 94.41741269942062,\n",
              " 115.23839714243746,\n",
              " 91.97692586567264,\n",
              " 115.63229526335877,\n",
              " 83.36206111103127,\n",
              " 88.58522975739189,\n",
              " 123.02133985346315,\n",
              " 109.04017852070558,\n",
              " 100.63934220140254,\n",
              " 101.57168182129016,\n",
              " 105.18207395786483,\n",
              " 122.9368273409784,\n",
              " 97.9585537499451,\n",
              " 94.22659339556448,\n",
              " 97.04918771526765,\n",
              " 98.18694113234766,\n",
              " 83.73272140573673,\n",
              " 103.60138416388853,\n",
              " 126.34864446877825,\n",
              " 100.02618021265863,\n",
              " 96.31074948947783,\n",
              " 108.88123666030287,\n",
              " 70.48029648318538,\n",
              " 109.73357860066812,\n",
              " 108.28340795845348,\n",
              " 107.56195322692878,\n",
              " 100.67655428326373,\n",
              " 86.1268731347474,\n",
              " 99.62557366873361,\n",
              " 78.87663293291052,\n",
              " 81.36986807257522,\n",
              " 108.63443680471873,\n",
              " 95.14844550913267,\n",
              " 74.42820047403795,\n",
              " 72.16465920563942,\n",
              " 103.16351874483367,\n",
              " 99.37061731822214,\n",
              " 99.72603040604594,\n",
              " 94.54004224438653,\n",
              " 103.72639163117027,\n",
              " 90.4148882621288,\n",
              " 103.95094262026312,\n",
              " 108.74518927069681,\n",
              " 95.04575104415143,\n",
              " 85.93850886277902,\n",
              " 89.63609324433672,\n",
              " 100.53455938303328,\n",
              " 99.99357478862765,\n",
              " 104.38165245331005,\n",
              " 110.84652227809491,\n",
              " 110.21506962786789,\n",
              " 91.33274027604669,\n",
              " 99.25599956285872,\n",
              " 87.55111100571908,\n",
              " 106.80009745565285,\n",
              " 95.23628756862544,\n",
              " 93.32474175154648,\n",
              " 121.81382080575077,\n",
              " 107.3120467925094,\n",
              " 104.91911848258557,\n",
              " 123.95581519976882,\n",
              " 100.08224774098721,\n",
              " 109.79782626997532,\n",
              " 83.24515784825954,\n",
              " 102.4111146463446,\n",
              " 111.54643530137673,\n",
              " 97.44599382817269,\n",
              " 71.4235664572502,\n",
              " 114.84357517485418,\n",
              " 115.13193268473583,\n",
              " 114.3669428644025,\n",
              " 113.1444066784587,\n",
              " 102.62467158268831,\n",
              " 101.35416801174217,\n",
              " 110.2499706334396,\n",
              " 110.16963968126763,\n",
              " 112.33316188240083,\n",
              " 112.32527271496136,\n",
              " 113.6826011199701,\n",
              " 107.77333034601328,\n",
              " 82.15166663558968,\n",
              " 83.07403766297823,\n",
              " 98.23221892162252,\n",
              " 98.26014855676422,\n",
              " 81.67831754333503,\n",
              " 88.13568377095221,\n",
              " 83.21816874392705,\n",
              " 75.85139517301926,\n",
              " 86.1991612688783,\n",
              " 81.44711900338251,\n",
              " 98.91647862062548,\n",
              " 96.55989915509451,\n",
              " 95.38454625598088,\n",
              " 100.05748677596209,\n",
              " 117.63786585478724,\n",
              " 122.42189997697433,\n",
              " 110.5745218631492,\n",
              " 115.02059356980973,\n",
              " 113.89546287766304,\n",
              " 113.92195549216888,\n",
              " 109.20695805912162,\n",
              " 83.66698905858951,\n",
              " 90.31712928692058,\n",
              " 70.14348805902496,\n",
              " 100.19506956885374,\n",
              " 110.9819414958558,\n",
              " 73.14948131510587,\n",
              " 109.3645027173328,\n",
              " 99.68462734136311,\n",
              " 109.50975787982094,\n",
              " 109.50615950105332,\n",
              " 100.73922345707018,\n",
              " 108.62102187377654,\n",
              " 106.58661179180662,\n",
              " 102.1638879730116,\n",
              " 118.9446611496763,\n",
              " 84.640067432418,\n",
              " 109.32741277424236,\n",
              " 100.40553351185126,\n",
              " 111.83826285080094,\n",
              " 116.58600892446869,\n",
              " 111.79004890933295,\n",
              " 108.32324951432486,\n",
              " 96.51907091621892,\n",
              " 109.63461625705484,\n",
              " 110.30231513712812,\n",
              " 102.29912213516872,\n",
              " 72.1397185671697,\n",
              " 70.62800739662552,\n",
              " 113.06609994672736,\n",
              " 82.16125513720246,\n",
              " 71.56207215536128,\n",
              " 83.6745337724066,\n",
              " 73.05634157547604,\n",
              " 71.43006378548111]"
            ]
          },
          "metadata": {},
          "execution_count": 91
        }
      ]
    },
    {
      "cell_type": "markdown",
      "source": [
        "### Média do CDI"
      ],
      "metadata": {
        "id": "KiBb5SY_dHC1"
      }
    },
    {
      "cell_type": "code",
      "source": [
        "# Média filtrada por Rentabilidade maior que 80\n",
        "filtered_hipotetical_match = []\n",
        "for i in hipotetical_match:\n",
        "  if i > 80:\n",
        "    filtered_hipotetical_match.append(i)\n",
        "np.mean(filtered_hipotetical_match)"
      ],
      "metadata": {
        "colab": {
          "base_uri": "https://localhost:8080/"
        },
        "id": "D8u0jAm1c2kV",
        "outputId": "a3068120-87c2-4048-eb7e-aec3954fd07c"
      },
      "execution_count": 92,
      "outputs": [
        {
          "output_type": "execute_result",
          "data": {
            "text/plain": [
              "102.01519123896026"
            ]
          },
          "metadata": {},
          "execution_count": 92
        }
      ]
    },
    {
      "cell_type": "code",
      "source": [
        "# Média Rentabilidade baseada em todos os pontos dos dados\n",
        "np.mean(hipotetical_match)"
      ],
      "metadata": {
        "colab": {
          "base_uri": "https://localhost:8080/"
        },
        "id": "s2dCiKN9etB4",
        "outputId": "5a50f1f9-3d31-4c88-90e1-0051a2faa09e"
      },
      "execution_count": 93,
      "outputs": [
        {
          "output_type": "execute_result",
          "data": {
            "text/plain": [
              "99.31403122104396"
            ]
          },
          "metadata": {},
          "execution_count": 93
        }
      ]
    },
    {
      "cell_type": "markdown",
      "source": [
        "## Distribuição dos Resultados\n",
        "Após obtermos esses casamentos, tentamos entender qual a distribuição da rentabilidade, e como ela se apresentava, além da classificação (normal, não-normal, outros formatos)."
      ],
      "metadata": {
        "id": "kxLGwc0Ge73V"
      }
    },
    {
      "cell_type": "markdown",
      "source": [
        "Distribuição de todos os pontos"
      ],
      "metadata": {
        "id": "16rmmzIOhfaY"
      }
    },
    {
      "cell_type": "code",
      "source": [
        "sns.histplot(hipotetical_match, kde=True)"
      ],
      "metadata": {
        "colab": {
          "base_uri": "https://localhost:8080/",
          "height": 447
        },
        "id": "h1hBXPuFfIrX",
        "outputId": "2fe3d38a-00cd-43b9-f10d-4c50faa42601"
      },
      "execution_count": 94,
      "outputs": [
        {
          "output_type": "execute_result",
          "data": {
            "text/plain": [
              "<Axes: ylabel='Count'>"
            ]
          },
          "metadata": {},
          "execution_count": 94
        },
        {
          "output_type": "display_data",
          "data": {
            "text/plain": [
              "<Figure size 640x480 with 1 Axes>"
            ],
            "image/png": "[encoded data removed]"
          },
          "metadata": {}
        }
      ]
    },
    {
      "cell_type": "markdown",
      "source": [
        "Distribuição dos pontos filtrados"
      ],
      "metadata": {
        "id": "u-A3NSyrhife"
      }
    },
    {
      "cell_type": "code",
      "source": [
        "sns.histplot(filtered_hipotetical_match, kde=True)"
      ],
      "metadata": {
        "colab": {
          "base_uri": "https://localhost:8080/",
          "height": 447
        },
        "id": "gG5yzoOTfizl",
        "outputId": "7a68f430-0548-48b6-c21e-9065ce536929"
      },
      "execution_count": 95,
      "outputs": [
        {
          "output_type": "execute_result",
          "data": {
            "text/plain": [
              "<Axes: ylabel='Count'>"
            ]
          },
          "metadata": {},
          "execution_count": 95
        },
        {
          "output_type": "display_data",
          "data": {
            "text/plain": [
              "<Figure size 640x480 with 1 Axes>"
            ],
            "image/png": "[encoded data removed]"
          },
          "metadata": {}
        }
      ]
    },
    {
      "cell_type": "markdown",
      "source": [
        "Percebe-se que nos dois casos, por mais que a distribuição geral se comporte de uma maneira diferente em cada cenário, ambos possuem uma descida relativamente brusca, à direita."
      ],
      "metadata": {
        "id": "PDLgZwHnho3M"
      }
    },
    {
      "cell_type": "markdown",
      "source": [
        "## Modelos Matemáticos\n"
      ],
      "metadata": {
        "id": "JxC6J5QlmOJV"
      }
    },
    {
      "cell_type": "markdown",
      "source": [
        "### Log-Normal"
      ],
      "metadata": {
        "id": "ehiUlZXEjYka"
      }
    },
    {
      "cell_type": "markdown",
      "source": [
        "A razão por trás da definição de limites em torno da faixa de 95%-125% para rentabilidade aceitável e considerar valores acima de 125% como muito altos está ligada aos seguintes fatores chave:\n",
        "\n",
        "  Índice CDI: Ao mirar combinar o índice CDI a 100%, o modelo é projetado para replicar uma taxa de renda fixa que espelharia esse referencial. Isso significa que os resultados ideais seriam agrupados em torno de 100%.\n",
        "\n",
        "  \"Perda\": Estabelecer um limite inferior a 100% cria uma zona de amortecimento para o que seria considerado uma variação aceitável do alvo. Isso reconhece que, em cenários do mundo real, há algum nível de imprevisibilidade e que desvios menores abaixo dessa média são toleráveis.\n",
        "\n",
        "  Transferência de Riqueza: Por outro lado, identificar taxas de rentabilidade acima de 125% como indesejavelmente altas é para prevenir cenários que são demasiado otimistas ou resultam em uma transferência de riqueza, o que pode não ser sustentável ou refletir o comportamento típico do mercado."
      ],
      "metadata": {
        "id": "hubggxggnhp6"
      }
    },
    {
      "cell_type": "markdown",
      "source": [
        "### Cenário 1: Equilíbrio entre Precisão e Flexibilidade"
      ],
      "metadata": {
        "id": "mL0JAi1fmtrL"
      }
    },
    {
      "cell_type": "markdown",
      "source": [
        "A distribuição log-normal com mu = 0 e sigma = 0.55 gera um perfil de rentabilidade centrado em 100%, com uma dispersão moderada que permite rentabilidades entre 95% e 100%. Além disso, a assimetria natural da distribuição log-normal acarreta em uma frequência maior de valores acima de 110%, considerados como altos. Este cenário é ideal para representar a maioria dos casos, com uma margem para oscilações realistas do mercado."
      ],
      "metadata": {
        "id": "hhHd4KHRm8qk"
      }
    },
    {
      "cell_type": "code",
      "source": [
        "import numpy as np\n",
        "\n",
        "mu, sigma = 0, .55\n",
        "s = np.random.lognormal(mu, sigma, 1000)\n",
        "\n",
        "x = np.linspace(0,5, 10000)\n",
        "pdf = (np.exp(-(np.log(x) - mu)**2 / (2 * sigma**2))\n",
        "       / (x * sigma * np.sqrt(2 * np.pi)))\n",
        "\n",
        "plt.plot(x, pdf, linewidth=2, color='r')\n",
        "plt.axis('tight')\n",
        "plt.title('Highly Skewed Lognormal Distribution')\n",
        "plt.show()"
      ],
      "metadata": {
        "colab": {
          "base_uri": "https://localhost:8080/",
          "height": 521
        },
        "id": "vUyU9YIpgoth",
        "outputId": "9415519c-47e7-4cfa-b90a-9411875aeb52"
      },
      "execution_count": 96,
      "outputs": [
        {
          "output_type": "stream",
          "name": "stderr",
          "text": [
            "<ipython-input-96-ffe5463d1f2a>:7: RuntimeWarning: divide by zero encountered in log\n",
            "  pdf = (np.exp(-(np.log(x) - mu)**2 / (2 * sigma**2))\n",
            "<ipython-input-96-ffe5463d1f2a>:7: RuntimeWarning: invalid value encountered in divide\n",
            "  pdf = (np.exp(-(np.log(x) - mu)**2 / (2 * sigma**2))\n"
          ]
        },
        {
          "output_type": "display_data",
          "data": {
            "text/plain": [
              "<Figure size 640x480 with 1 Axes>"
            ],
            "image/png": "[encoded data removed]"
          },
          "metadata": {}
        }
      ]
    },
    {
      "cell_type": "markdown",
      "source": [
        "### Cenário 2: Maior Liberdade para Valores Altos\n",
        "No segundo cenário, com mu = 0 e sigma = 1.44, a distribuição permite uma variação maior para valores abaixo de 100%, com uma cauda mais longa para valores acima do pico, refletindo uma maior frequência de rentabilidades consideradas altas."
      ],
      "metadata": {
        "id": "2ML266R0m4mF"
      }
    },
    {
      "cell_type": "code",
      "source": [
        "import numpy as np\n",
        "\n",
        "mu, sigma = 0, 1.44\n",
        "s = np.random.lognormal(mu, sigma, 1000)\n",
        "\n",
        "x = np.linspace(0, 5, 10000)\n",
        "pdf = (np.exp(-(np.log(x) - mu)**2 / (2 * sigma**2))\n",
        "       / (x * sigma * np.sqrt(2 * np.pi)))\n",
        "\n",
        "plt.plot(x, pdf, linewidth=2, color='r')\n",
        "plt.axis('tight')\n",
        "plt.title('Highly Skewed Lognormal Distribution')\n",
        "plt.show()"
      ],
      "metadata": {
        "colab": {
          "base_uri": "https://localhost:8080/",
          "height": 521
        },
        "id": "F2bS2FskisgX",
        "outputId": "7563ed29-662a-4378-dcf5-f002686d3b46"
      },
      "execution_count": 97,
      "outputs": [
        {
          "output_type": "stream",
          "name": "stderr",
          "text": [
            "<ipython-input-97-782e6247c354>:7: RuntimeWarning: divide by zero encountered in log\n",
            "  pdf = (np.exp(-(np.log(x) - mu)**2 / (2 * sigma**2))\n",
            "<ipython-input-97-782e6247c354>:7: RuntimeWarning: invalid value encountered in divide\n",
            "  pdf = (np.exp(-(np.log(x) - mu)**2 / (2 * sigma**2))\n"
          ]
        },
        {
          "output_type": "display_data",
          "data": {
            "text/plain": [
              "<Figure size 640x480 with 1 Axes>"
            ],
            "image/png": "[encoded data removed]"
          },
          "metadata": {}
        }
      ]
    },
    {
      "cell_type": "markdown",
      "source": [
        "### Cenário 3 - Modelo Ótimo"
      ],
      "metadata": {
        "id": "THvjuhtZm5zh"
      }
    },
    {
      "cell_type": "markdown",
      "source": [
        "Para o terceiro cenário, mu = 0 e sigma = 0.36 resultam em uma distribuição mais concentrada em torno de 100%, com desvios menores tanto para baixo quanto para cima. Este seria o cenário ideal, porém menos realista, pois pressupõe uma precisão que pode não ser alcançável na prática."
      ],
      "metadata": {
        "id": "7MT_lwhLpo6q"
      }
    },
    {
      "cell_type": "code",
      "source": [
        "import numpy as np\n",
        "\n",
        "mu, sigma = 0, .36\n",
        "s = np.random.lognormal(mu, sigma, 1000)\n",
        "\n",
        "x = np.linspace(0, 5, 10000)\n",
        "pdf = (np.exp(-(np.log(x) - mu)**2 / (2 * sigma**2))\n",
        "       / (x * sigma * np.sqrt(2 * np.pi)))\n",
        "\n",
        "plt.plot(x, pdf, linewidth=2, color='r')\n",
        "plt.axis('tight')\n",
        "plt.title('Highly Skewed Lognormal Distribution')\n",
        "plt.show()"
      ],
      "metadata": {
        "colab": {
          "base_uri": "https://localhost:8080/",
          "height": 521
        },
        "id": "oOfUoWJFivoA",
        "outputId": "8ab24514-068c-49c3-bab5-bd3efd20a7f0"
      },
      "execution_count": 98,
      "outputs": [
        {
          "output_type": "stream",
          "name": "stderr",
          "text": [
            "<ipython-input-98-ad40c9599bd7>:7: RuntimeWarning: divide by zero encountered in log\n",
            "  pdf = (np.exp(-(np.log(x) - mu)**2 / (2 * sigma**2))\n",
            "<ipython-input-98-ad40c9599bd7>:7: RuntimeWarning: invalid value encountered in divide\n",
            "  pdf = (np.exp(-(np.log(x) - mu)**2 / (2 * sigma**2))\n"
          ]
        },
        {
          "output_type": "display_data",
          "data": {
            "text/plain": [
              "<Figure size 640x480 with 1 Axes>"
            ],
            "image/png": "[encoded data removed]"
          },
          "metadata": {}
        }
      ]
    },
    {
      "cell_type": "markdown",
      "source": [
        "# Resultados"
      ],
      "metadata": {
        "id": "4Peq_OuovFN2"
      }
    },
    {
      "cell_type": "markdown",
      "source": [
        "Após avaliar os cenários propostos, optamos por adotar o Cenário 1 como referência. A distribuição gerada por ele se alinha melhor com o objetivo de reproduzir a rentabilidade próxima ao índice CDI de 100%, enquanto permite uma distribuição de valores que reflete a realidade do mercado, aceitando variações naturais sem buscar o ótimo hipotético.\n",
        "\n",
        "Essa escolha se justifica pela necessidade de encontrar um equilíbrio entre a precisão dos casamentos e a flexibilidade para acomodar a volatilidade e as variações inerentes às previsões do modelo."
      ],
      "metadata": {
        "id": "n-AYPdgGsTog"
      }
    }
  ]
}